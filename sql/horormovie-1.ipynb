{
 "cells": [
  {
   "cell_type": "code",
   "execution_count": null,
   "metadata": {},
   "outputs": [],
   "source": [
    "# Add # RUN IMPORTS \n",
    "import sqlite3\n",
    "import pandas as pd\n",
    "\n",
    "#connect to database\n",
    "conn = sqlite3.connect('db/movies.db')\n",
    "\n",
    "# create curson object \n",
    "cursor = conn.cursor()\n",
    "#create table \n",
    "cursor.execute('''\n",
    "CREATE TABLE IF NOT EXISTS MOVIES(\n",
    "ID integer primary key,\n",
    "name TEXT NOT NULL,\n",
    "genre TEXT,\n",
    "year INTEGER,\n",
    "imdb_rating REAL        \n",
    "''')\n",
    "#commit to the Datebass\n",
    "conn.commit()\n",
    "conn.close()\n",
    "#connect to the datebase\n",
    "conn =sqite3.connect('db/movies.db') \n",
    "\n",
    "\n",
    "# read from db into database \n",
    "query = '''\n",
    "SELECT id as Movie_ID, name as Movie_Title, imdb_rating as Rating \n",
    "FROM movies\n",
    "WHERE genre = 'horror' AND year <= 1985\n",
    "'''\n",
    "\n",
    "df = pd.read_sql(query, conn)\n",
    "print(df)\n",
    "conn.close()\n",
    "query = '''\n",
    "SELECT id as Movie_ID, name as Movie_Title, imdb_rating as Rating \n",
    "FROM movies\n",
    "WHERE genre = 'horror' AND year <= 1985\n",
    "ORDER BY imdb_rating DESC\n",
    "LIMIT 3;\n",
    "'''\n",
    "df = pd.read_sql(query, conn)\n",
    "print(df)\n",
    "conn.close()"
   ]
  }
 ],
 "metadata": {
  "language_info": {
   "name": "python"
  },
  "orig_nbformat": 4
 },
 "nbformat": 4,
 "nbformat_minor": 2
}
